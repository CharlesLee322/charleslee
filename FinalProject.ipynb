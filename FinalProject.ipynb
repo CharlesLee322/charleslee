{
 "cells": [
  {
   "cell_type": "markdown",
   "metadata": {},
   "source": [
    "<font size=\"6\">**Final Project**</font>"
   ]
  },
  {
   "cell_type": "markdown",
   "metadata": {},
   "source": [
    "For my project I wanted to do something that is simple and is useful(Aka not a chatbot). I created this simulation so that people can know me better. It's to your benefits because I'm going to be famous one day! P.S. this is the work of a college student that procrastinates a lot. "
   ]
  },
  {
   "cell_type": "code",
   "execution_count": 31,
   "metadata": {},
   "outputs": [],
   "source": [
    "from my_module.Functions import *"
   ]
  },
  {
   "cell_type": "code",
   "execution_count": 32,
   "metadata": {},
   "outputs": [
    {
     "name": "stdout",
     "output_type": "stream",
     "text": [
      "What is my name? : Charles\n",
      "You are correct!\n",
      "Surprise! Pop Quiz!\n",
      "It is time for a quiz that you probably won't ace!(Or maybe you are a good guesser)\n",
      "What is my favorite color?\n",
      "(a) Blue\n",
      "(b) Red\n",
      "(c) Blacka\n",
      "What is my favorite sport?\n",
      "(a) Football \n",
      "(b) Basketball \n",
      "(c) Tennisb\n",
      "Do I like to code? \n",
      "(a) Definitely \n",
      "(b) No \n",
      "(c) (-_-)ゞ゛Maybe?c\n",
      "Will I get an A in my python class? \n",
      "(a) Yes \n",
      "(b) Of Course\n",
      "(c) Yessss but longer\n",
      "(d) All of them aboved\n",
      "True or False? Pineapple belongs on pizza. \n",
      "(a) HAHAHAHA \n",
      "(b) ◔̯◔ \n",
      "(c) I thought this was a T/F question?c\n",
      "Do you have any questions for me? \n",
      "(a) yes\n",
      "(b) Pls noa\n",
      "you got 5 out of 6 !\n",
      "Answer Key: a b c d c b\n"
     ]
    }
   ],
   "source": [
    "name = input('What is my name? : ')\n",
    "my_name(name)\n",
    "run_quiz(answers)"
   ]
  },
  {
   "cell_type": "markdown",
   "metadata": {},
   "source": [
    "Here are my test functions!"
   ]
  },
  {
   "cell_type": "code",
   "execution_count": 33,
   "metadata": {},
   "outputs": [],
   "source": [
    "from my_module.Test_Functions import*"
   ]
  },
  {
   "cell_type": "code",
   "execution_count": 34,
   "metadata": {},
   "outputs": [],
   "source": [
    "test_my_name()\n",
    "test_Quiz()"
   ]
  },
  {
   "cell_type": "code",
   "execution_count": null,
   "metadata": {},
   "outputs": [],
   "source": []
  }
 ],
 "metadata": {
  "kernelspec": {
   "display_name": "Python 3",
   "language": "python",
   "name": "python3"
  },
  "language_info": {
   "codemirror_mode": {
    "name": "ipython",
    "version": 3
   },
   "file_extension": ".py",
   "mimetype": "text/x-python",
   "name": "python",
   "nbconvert_exporter": "python",
   "pygments_lexer": "ipython3",
   "version": "3.6.7"
  }
 },
 "nbformat": 4,
 "nbformat_minor": 2
}
